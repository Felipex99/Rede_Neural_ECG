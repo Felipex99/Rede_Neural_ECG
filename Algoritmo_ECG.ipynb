{
  "nbformat": 4,
  "nbformat_minor": 0,
  "metadata": {
    "colab": {
      "provenance": [],
      "authorship_tag": "ABX9TyN3iOOeLsXj8Ol5pNmDGR82",
      "include_colab_link": true
    },
    "kernelspec": {
      "name": "python3",
      "display_name": "Python 3"
    },
    "language_info": {
      "name": "python"
    }
  },
  "cells": [
    {
      "cell_type": "markdown",
      "metadata": {
        "id": "view-in-github",
        "colab_type": "text"
      },
      "source": [
        "<a href=\"https://colab.research.google.com/github/Felipex99/Rede_Neural_ECG/blob/main/Algoritmo_ECG.ipynb\" target=\"_parent\"><img src=\"https://colab.research.google.com/assets/colab-badge.svg\" alt=\"Open In Colab\"/></a>"
      ]
    },
    {
      "cell_type": "markdown",
      "source": [
        "1-Execute primeiramente o código abaixo para instalar a biblioteca WFDB e definir a o diretório raiz do colab"
      ],
      "metadata": {
        "id": "aLkvm7Uk_Dbz"
      }
    },
    {
      "cell_type": "code",
      "execution_count": null,
      "metadata": {
        "id": "u-w24Dee-1xl"
      },
      "outputs": [],
      "source": [
        "import os\n",
        "data_path = '/content/'\n",
        "os.chdir(data_path)\n",
        "!rm -rf ./*\n",
        "! pip install wfdb\n",
        "!ls"
      ]
    },
    {
      "cell_type": "markdown",
      "source": [
        "2-Depois execute a célula abaixo para baixar todos os dados dos eletrocardiogramas presentes no repositório do site da https://physionet.org/\n"
      ],
      "metadata": {
        "id": "z3i4WUOV_ds5"
      }
    },
    {
      "cell_type": "code",
      "source": [
        "! wget -r -N -c -np https://physionet.org/files/ludb/1.0.1/"
      ],
      "metadata": {
        "id": "3-VXOK7H-8me"
      },
      "execution_count": null,
      "outputs": []
    },
    {
      "cell_type": "markdown",
      "source": [
        "3-Execute esta célula para ver os resultados da rede neural"
      ],
      "metadata": {
        "id": "pATzsqa2ABIC"
      }
    },
    {
      "cell_type": "code",
      "source": [
        "%matplotlib inline\n",
        "import torch\n",
        "from torch import nn,optim\n",
        "import os\n",
        "import matplotlib.pyplot as plt\n",
        "from torch.utils.data import DataLoader, Dataset\n",
        "import wfdb\n",
        "import numpy as np\n",
        "import pandas as pd\n",
        "from sklearn import metrics\n",
        "data_path = '/content/'\n",
        "os.chdir(data_path)\n",
        "# definindo o caminho para se trabalhar os dados do ECG\n",
        "data_path = '/content/physionet.org/files/ludb/1.0.1/data'\n",
        "os.chdir(data_path)\n",
        "\n",
        "# variáveis para alterar os padrões da rede neural\n",
        "args = {\n",
        "    'batch_size':6,\n",
        "    'num_workers':2,\n",
        "    'num_classes':12,\n",
        "    'lr':1e-3,\n",
        "    'weight_decay':5e-4,\n",
        "    'num_epochs':20\n",
        "}\n",
        "\n",
        "# criando a classe ECG para extrair os dados\n",
        "class ECG(Dataset):\n",
        "  def __init__(self,data_path):\n",
        "    self.record_names = []\n",
        "    self.rotulo = []\n",
        "    self.dados = []\n",
        "    # procurando os dados de formato wfdb na pasta\n",
        "    for arq in os.listdir(data_path):\n",
        "      if arq.endswith('.dat'):\n",
        "        self.record_names.append(arq[:-4])\n",
        "        #print('({})Exame: {}'.format(len(self.record_names),self.record_names))\n",
        "        # ler no arquivo se possui alguma nota de alteração no ECG\n",
        "        nota_arq = os.path.join(data_path,arq[:-4]+'.hea')\n",
        "        with open(nota_arq,'r') as linha:\n",
        "          diagnostico = linha.read()\n",
        "          if 'Sinus rhythm' in diagnostico:\n",
        "            self.rotulo.append(0) # exame normal\n",
        "          else:\n",
        "             self.rotulo.append(1)  # anormalidade encontrada no exame\n",
        "        # ler o arquivo do registro\n",
        "        record_file = os.path.join(data_path,arq[:-4])\n",
        "        signal,meta_data = wfdb.rdsamp(record_file)\n",
        "        self.dados.append(signal)\n",
        "        #print('Rotulo{}: '.format(self.rotulo))\n",
        "  def __getitem__(self,idx):\n",
        "    sample = self.dados[idx][1]\n",
        "    rotulo = self.rotulo[idx]\n",
        "    # converter pra tensor\n",
        "    sample = torch.from_numpy(sample.astype(np.float32))\n",
        "    rotulo = torch.tensor([rotulo],dtype = torch.float32)\n",
        "    #rotulo = torch.from_numpy(rotulo.astype(np.float32))\n",
        "\n",
        "    return sample, rotulo\n",
        "\n",
        "  def __len__(self):\n",
        "    return len(self.record_names)\n",
        "\n",
        "dataset = ECG(data_path)\n",
        "train_size = int(0.8*len(dataset))\n",
        "test_size = len(dataset)-train_size\n",
        "\n",
        "train_dataset,test_dataset = torch.utils.data.random_split(dataset,[train_size,test_size])\n",
        "\n",
        "\n",
        "\n",
        "train_loader = DataLoader(train_dataset,\n",
        "                          batch_size = args['batch_size'],\n",
        "                          shuffle = True,\n",
        "                          num_workers = args['num_workers'])\n",
        "\n",
        "test_loader = DataLoader(test_dataset,\n",
        "                         batch_size = args['batch_size'],\n",
        "                         shuffle = True,\n",
        "                         num_workers = args['num_workers'])\n",
        "\n",
        "class RedeNeural(nn.Module):\n",
        "    def __init__(self,entrada,escondida,saida):\n",
        "        super(RedeNeural,self).__init__()\n",
        "        self.escondida = nn.Sequential(\n",
        "            nn.Linear(entrada,escondida),\n",
        "            nn.ReLU(),\n",
        "            nn.Linear(escondida,escondida),\n",
        "            nn.ReLU(),\n",
        "            )\n",
        "        self.saida = nn.Linear(escondida,saida)\n",
        "        self.sigmoid = nn.Sigmoid()  # Para prever valores entre 0 e 1\n",
        "    def forward(self,X):\n",
        "        X = X.view(X.size(0),-1)\n",
        "        hidden = self.escondida(X)\n",
        "        out = self.sigmoid(self.saida(hidden))\n",
        "        return out\n",
        "\n",
        "entrada = len(dataset[0][0]) #quantidades de atributos  12 derivações\n",
        "escondida = 16\n",
        "saida = 1 # variaveis que serao preditas 0 = Normal, 1 = Anormal\n",
        "rede = RedeNeural(entrada,escondida,saida)\n",
        "criterion = nn.BCELoss()\n",
        "optimizer = optim.Adam(rede.parameters(),lr = args['lr'],weight_decay = args['weight_decay'])\n",
        "\n",
        "########\n",
        "def train(train_loader,RedeNeural,epoch):\n",
        "      rede.train()\n",
        "      epoch_loss = []\n",
        "      for batch in train_loader:\n",
        "          dado,rotulo = batch\n",
        "          optimizer.zero_grad()\n",
        "          pred = rede(dado)\n",
        "\n",
        "          loss = criterion(pred,rotulo)\n",
        "          epoch_loss.append(loss.data)\n",
        "\n",
        "          loss.backward()\n",
        "          optimizer.step()\n",
        "      epoch_loss = np.asarray(epoch_loss)\n",
        "      print('Treino:: Epoca %d,Loss:%.4f +/- %.4f'%(epoch,epoch_loss.mean(),epoch_loss.std()))\n",
        "      return epoch_loss.mean()\n",
        "#########\n",
        "def test(test_loader,RedeNeural,epoch):\n",
        "      rede.eval()\n",
        "      rotulos_reais=[]\n",
        "      rotulos_previstos = []\n",
        "      with torch.no_grad():\n",
        "        epoch_loss = []\n",
        "        for batch in test_loader:\n",
        "            dado,rotulo = batch\n",
        "            # Forward\n",
        "            pred = rede(dado)\n",
        "            prev = torch.round(pred)\n",
        "            rotulos_reais.extend(rotulo.numpy())\n",
        "            rotulos_previstos.extend(prev.numpy())\n",
        "            loss = criterion(pred,rotulo)\n",
        "            epoch_loss.append(loss.data)\n",
        "        acuracia = metrics.accuracy_score(rotulos_reais,rotulos_previstos)\n",
        "        epoch_loss = np.asarray(epoch_loss)\n",
        "        print('Acurracia : {:.2f}%, Real{} = PrevistoIA={}'.format(acuracia*100, rotulos_reais[0],rotulos_previstos[0]))\n",
        "        print('Teste:: Epoca %d,Loss:%.4f +/- %.4f'%(epoch,epoch_loss.mean(),epoch_loss.std()))\n",
        "        return epoch_loss.mean()\n",
        "\n",
        "train_losses, test_losses = [],[]\n",
        "for epoch in range(args['num_epochs']):\n",
        "  #train\n",
        "  train_losses.append(train(train_loader,rede,epoch))\n",
        "  #validate\n",
        "  test_losses.append(test(test_loader,rede,epoch))\n",
        "  print('-----------------------------')\n",
        "plt.figure(figsize=(5,5))\n",
        "plt.plot(train_losses,label = 'Train')\n",
        "plt.plot(test_losses,label = 'Test',linewidth = 3, alpha = 0.5)\n",
        "plt.xlabel('Épocas',fontsize = 16)\n",
        "plt.ylabel('Perda',fontsize = 16)\n",
        "plt.title('Convergência',fontsize = 16)\n",
        "plt.legend()\n",
        "plt.show()"
      ],
      "metadata": {
        "id": "0nxqg7M8AAji"
      },
      "execution_count": null,
      "outputs": []
    }
  ]
}